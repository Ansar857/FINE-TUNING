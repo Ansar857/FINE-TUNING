{
 "cells": [
  {
   "cell_type": "markdown",
   "id": "19e78f8a",
   "metadata": {},
   "source": [
    "# Instantiating the VGG16 convolutional base"
   ]
  },
  {
   "cell_type": "code",
   "execution_count": 1,
   "id": "7aab2dc1",
   "metadata": {},
   "outputs": [],
   "source": [
    "from tensorflow.keras.applications import VGG16\n",
    "conv_base = VGG16(weights='imagenet',\n",
    "include_top=False,\n",
    "input_shape=(150, 150, 3))"
   ]
  },
  {
   "cell_type": "code",
   "execution_count": 2,
   "id": "b899589a",
   "metadata": {},
   "outputs": [
    {
     "name": "stdout",
     "output_type": "stream",
     "text": [
      "Model: \"vgg16\"\n",
      "_________________________________________________________________\n",
      " Layer (type)                Output Shape              Param #   \n",
      "=================================================================\n",
      " input_1 (InputLayer)        [(None, 150, 150, 3)]     0         \n",
      "                                                                 \n",
      " block1_conv1 (Conv2D)       (None, 150, 150, 64)      1792      \n",
      "                                                                 \n",
      " block1_conv2 (Conv2D)       (None, 150, 150, 64)      36928     \n",
      "                                                                 \n",
      " block1_pool (MaxPooling2D)  (None, 75, 75, 64)        0         \n",
      "                                                                 \n",
      " block2_conv1 (Conv2D)       (None, 75, 75, 128)       73856     \n",
      "                                                                 \n",
      " block2_conv2 (Conv2D)       (None, 75, 75, 128)       147584    \n",
      "                                                                 \n",
      " block2_pool (MaxPooling2D)  (None, 37, 37, 128)       0         \n",
      "                                                                 \n",
      " block3_conv1 (Conv2D)       (None, 37, 37, 256)       295168    \n",
      "                                                                 \n",
      " block3_conv2 (Conv2D)       (None, 37, 37, 256)       590080    \n",
      "                                                                 \n",
      " block3_conv3 (Conv2D)       (None, 37, 37, 256)       590080    \n",
      "                                                                 \n",
      " block3_pool (MaxPooling2D)  (None, 18, 18, 256)       0         \n",
      "                                                                 \n",
      " block4_conv1 (Conv2D)       (None, 18, 18, 512)       1180160   \n",
      "                                                                 \n",
      " block4_conv2 (Conv2D)       (None, 18, 18, 512)       2359808   \n",
      "                                                                 \n",
      " block4_conv3 (Conv2D)       (None, 18, 18, 512)       2359808   \n",
      "                                                                 \n",
      " block4_pool (MaxPooling2D)  (None, 9, 9, 512)         0         \n",
      "                                                                 \n",
      " block5_conv1 (Conv2D)       (None, 9, 9, 512)         2359808   \n",
      "                                                                 \n",
      " block5_conv2 (Conv2D)       (None, 9, 9, 512)         2359808   \n",
      "                                                                 \n",
      " block5_conv3 (Conv2D)       (None, 9, 9, 512)         2359808   \n",
      "                                                                 \n",
      " block5_pool (MaxPooling2D)  (None, 4, 4, 512)         0         \n",
      "                                                                 \n",
      "=================================================================\n",
      "Total params: 14,714,688\n",
      "Trainable params: 14,714,688\n",
      "Non-trainable params: 0\n",
      "_________________________________________________________________\n"
     ]
    }
   ],
   "source": [
    "conv_base.summary()"
   ]
  },
  {
   "cell_type": "markdown",
   "id": "9d8f332c",
   "metadata": {},
   "source": [
    "# Freezing all layers up to a specific one\n"
   ]
  },
  {
   "cell_type": "code",
   "execution_count": 3,
   "id": "54a54a72",
   "metadata": {},
   "outputs": [],
   "source": [
    "conv_base.trainable = True\n",
    "set_trainable = False\n",
    "for layer in conv_base.layers:\n",
    "    if layer.name == 'block5_conv1':\n",
    "        set_trainable = True\n",
    "    if set_trainable:\n",
    "        layer.trainable = True\n",
    "    else:\n",
    "        layer.trainable = False"
   ]
  },
  {
   "cell_type": "code",
   "execution_count": 9,
   "id": "456cd773",
   "metadata": {},
   "outputs": [
    {
     "name": "stdout",
     "output_type": "stream",
     "text": [
      "Model: \"vgg16\"\n",
      "_________________________________________________________________\n",
      " Layer (type)                Output Shape              Param #   \n",
      "=================================================================\n",
      " input_1 (InputLayer)        [(None, 150, 150, 3)]     0         \n",
      "                                                                 \n",
      " block1_conv1 (Conv2D)       (None, 150, 150, 64)      1792      \n",
      "                                                                 \n",
      " block1_conv2 (Conv2D)       (None, 150, 150, 64)      36928     \n",
      "                                                                 \n",
      " block1_pool (MaxPooling2D)  (None, 75, 75, 64)        0         \n",
      "                                                                 \n",
      " block2_conv1 (Conv2D)       (None, 75, 75, 128)       73856     \n",
      "                                                                 \n",
      " block2_conv2 (Conv2D)       (None, 75, 75, 128)       147584    \n",
      "                                                                 \n",
      " block2_pool (MaxPooling2D)  (None, 37, 37, 128)       0         \n",
      "                                                                 \n",
      " block3_conv1 (Conv2D)       (None, 37, 37, 256)       295168    \n",
      "                                                                 \n",
      " block3_conv2 (Conv2D)       (None, 37, 37, 256)       590080    \n",
      "                                                                 \n",
      " block3_conv3 (Conv2D)       (None, 37, 37, 256)       590080    \n",
      "                                                                 \n",
      " block3_pool (MaxPooling2D)  (None, 18, 18, 256)       0         \n",
      "                                                                 \n",
      " block4_conv1 (Conv2D)       (None, 18, 18, 512)       1180160   \n",
      "                                                                 \n",
      " block4_conv2 (Conv2D)       (None, 18, 18, 512)       2359808   \n",
      "                                                                 \n",
      " block4_conv3 (Conv2D)       (None, 18, 18, 512)       2359808   \n",
      "                                                                 \n",
      " block4_pool (MaxPooling2D)  (None, 9, 9, 512)         0         \n",
      "                                                                 \n",
      " block5_conv1 (Conv2D)       (None, 9, 9, 512)         2359808   \n",
      "                                                                 \n",
      " block5_conv2 (Conv2D)       (None, 9, 9, 512)         2359808   \n",
      "                                                                 \n",
      " block5_conv3 (Conv2D)       (None, 9, 9, 512)         2359808   \n",
      "                                                                 \n",
      " block5_pool (MaxPooling2D)  (None, 4, 4, 512)         0         \n",
      "                                                                 \n",
      "=================================================================\n",
      "Total params: 14,714,688\n",
      "Trainable params: 7,079,424\n",
      "Non-trainable params: 7,635,264\n",
      "_________________________________________________________________\n"
     ]
    }
   ],
   "source": [
    "conv_base.summary()"
   ]
  },
  {
   "cell_type": "markdown",
   "id": "2f57e27c",
   "metadata": {},
   "source": [
    "# Fine-tuning the model"
   ]
  },
  {
   "cell_type": "code",
   "execution_count": 17,
   "id": "61b9251e",
   "metadata": {},
   "outputs": [],
   "source": [
    "train_dir ='E:/CAT AND DOG/train'\n",
    "validation_dir ='E:/CAT AND DOG/validation' \n",
    "test_dir = 'E:/CAT AND DOG/test'"
   ]
  },
  {
   "cell_type": "code",
   "execution_count": 11,
   "id": "aa448b8c",
   "metadata": {},
   "outputs": [],
   "source": [
    "from tensorflow.keras import models\n",
    "from tensorflow.keras import layers\n",
    "model = models.Sequential()\n",
    "model.add(conv_base)\n",
    "model.add(layers.Flatten())\n",
    "model.add(layers.Dense(256, activation='relu'))\n",
    "model.add(layers.Dense(1, activation='sigmoid'))"
   ]
  },
  {
   "cell_type": "code",
   "execution_count": 15,
   "id": "ed516075",
   "metadata": {},
   "outputs": [],
   "source": [
    "from tensorflow.keras.preprocessing.image import ImageDataGenerator\n",
    "from tensorflow.keras import optimizers\n",
    "train_datagen = ImageDataGenerator(\n",
    "                    rescale=1./255,\n",
    "                    rotation_range=40,\n",
    "                    width_shift_range=0.2,\n",
    "                    height_shift_range=0.2,\n",
    "                    shear_range=0.2,\n",
    "                    zoom_range=0.2,\n",
    "                    horizontal_flip=True,\n",
    "                    fill_mode='nearest')"
   ]
  },
  {
   "cell_type": "code",
   "execution_count": 18,
   "id": "eba1f79d",
   "metadata": {},
   "outputs": [
    {
     "name": "stdout",
     "output_type": "stream",
     "text": [
      "Found 2000 images belonging to 2 classes.\n",
      "Found 1000 images belonging to 2 classes.\n"
     ]
    }
   ],
   "source": [
    "test_datagen = ImageDataGenerator(rescale=1./255)\n",
    "train_generator = train_datagen.flow_from_directory(\n",
    "train_dir,\n",
    "target_size=(150, 150),\n",
    "batch_size=10,\n",
    "class_mode='binary')\n",
    "validation_generator = test_datagen.flow_from_directory(\n",
    "validation_dir,\n",
    "target_size=(150, 150),\n",
    "batch_size=10,\n",
    "class_mode='binary')"
   ]
  },
  {
   "cell_type": "code",
   "execution_count": 22,
   "id": "a643260b",
   "metadata": {},
   "outputs": [],
   "source": [
    "model.compile(loss='binary_crossentropy',\n",
    "            optimizer=optimizers.RMSprop(lr=1e-5),\n",
    "            metrics=['acc'])"
   ]
  },
  {
   "cell_type": "code",
   "execution_count": 23,
   "id": "01ad5e89",
   "metadata": {},
   "outputs": [
    {
     "name": "stdout",
     "output_type": "stream",
     "text": [
      "Epoch 1/30\n",
      "50/50 [==============================] - 498s 10s/step - loss: 0.6447 - acc: 0.6380 - val_loss: 0.5214 - val_acc: 0.7960\n",
      "Epoch 2/30\n",
      "50/50 [==============================] - 481s 10s/step - loss: 0.5476 - acc: 0.7260 - val_loss: 0.4181 - val_acc: 0.8480\n",
      "Epoch 3/30\n",
      "50/50 [==============================] - 470s 9s/step - loss: 0.4762 - acc: 0.7680 - val_loss: 0.3321 - val_acc: 0.8680\n",
      "Epoch 4/30\n",
      "50/50 [==============================] - 469s 9s/step - loss: 0.4268 - acc: 0.8000 - val_loss: 0.3446 - val_acc: 0.8360\n",
      "Epoch 5/30\n",
      "50/50 [==============================] - 468s 9s/step - loss: 0.3576 - acc: 0.8460 - val_loss: 0.2961 - val_acc: 0.8760\n",
      "Epoch 6/30\n",
      "50/50 [==============================] - 466s 9s/step - loss: 0.3210 - acc: 0.8480 - val_loss: 0.3999 - val_acc: 0.8120\n",
      "Epoch 7/30\n",
      "50/50 [==============================] - 468s 9s/step - loss: 0.3436 - acc: 0.8400 - val_loss: 0.2764 - val_acc: 0.8840\n",
      "Epoch 8/30\n",
      "50/50 [==============================] - 471s 9s/step - loss: 0.3420 - acc: 0.8460 - val_loss: 0.2835 - val_acc: 0.8800\n",
      "Epoch 9/30\n",
      "50/50 [==============================] - 473s 10s/step - loss: 0.3088 - acc: 0.8480 - val_loss: 0.2537 - val_acc: 0.8920\n",
      "Epoch 10/30\n",
      "50/50 [==============================] - 483s 10s/step - loss: 0.3016 - acc: 0.8540 - val_loss: 0.2496 - val_acc: 0.8880\n",
      "Epoch 11/30\n",
      "50/50 [==============================] - 467s 9s/step - loss: 0.2991 - acc: 0.8700 - val_loss: 0.2404 - val_acc: 0.9080\n",
      "Epoch 12/30\n",
      "50/50 [==============================] - 474s 10s/step - loss: 0.2609 - acc: 0.8880 - val_loss: 0.2434 - val_acc: 0.8960\n",
      "Epoch 13/30\n",
      "50/50 [==============================] - 473s 10s/step - loss: 0.3146 - acc: 0.8720 - val_loss: 0.2715 - val_acc: 0.8520\n",
      "Epoch 14/30\n",
      "50/50 [==============================] - 476s 10s/step - loss: 0.2701 - acc: 0.8820 - val_loss: 0.2540 - val_acc: 0.8800\n",
      "Epoch 15/30\n",
      "50/50 [==============================] - 488s 10s/step - loss: 0.2759 - acc: 0.8980 - val_loss: 0.2031 - val_acc: 0.9080\n",
      "Epoch 16/30\n",
      "50/50 [==============================] - 497s 10s/step - loss: 0.2571 - acc: 0.8960 - val_loss: 0.2028 - val_acc: 0.9040\n",
      "Epoch 17/30\n",
      "50/50 [==============================] - 492s 10s/step - loss: 0.2471 - acc: 0.8840 - val_loss: 0.1849 - val_acc: 0.9200\n",
      "Epoch 18/30\n",
      "50/50 [==============================] - 511s 10s/step - loss: 0.2291 - acc: 0.8980 - val_loss: 0.2816 - val_acc: 0.8680\n",
      "Epoch 19/30\n",
      "50/50 [==============================] - 512s 10s/step - loss: 0.2121 - acc: 0.9220 - val_loss: 0.2118 - val_acc: 0.8960\n",
      "Epoch 20/30\n",
      "50/50 [==============================] - 566s 11s/step - loss: 0.2470 - acc: 0.9020 - val_loss: 0.2699 - val_acc: 0.8920\n",
      "Epoch 21/30\n",
      "50/50 [==============================] - 558s 11s/step - loss: 0.2304 - acc: 0.9060 - val_loss: 0.2184 - val_acc: 0.9280\n",
      "Epoch 22/30\n",
      "50/50 [==============================] - 524s 11s/step - loss: 0.2487 - acc: 0.8900 - val_loss: 0.2556 - val_acc: 0.8840\n",
      "Epoch 23/30\n",
      "50/50 [==============================] - 542s 11s/step - loss: 0.2034 - acc: 0.9100 - val_loss: 0.2095 - val_acc: 0.9160\n",
      "Epoch 24/30\n",
      "50/50 [==============================] - 568s 11s/step - loss: 0.2067 - acc: 0.9160 - val_loss: 0.2845 - val_acc: 0.9080\n",
      "Epoch 25/30\n",
      "50/50 [==============================] - 526s 11s/step - loss: 0.2010 - acc: 0.9120 - val_loss: 0.1714 - val_acc: 0.9280\n",
      "Epoch 26/30\n",
      "50/50 [==============================] - 547s 11s/step - loss: 0.2465 - acc: 0.9000 - val_loss: 0.1715 - val_acc: 0.9320\n",
      "Epoch 27/30\n",
      "50/50 [==============================] - 515s 10s/step - loss: 0.2345 - acc: 0.9020 - val_loss: 0.2014 - val_acc: 0.9120\n",
      "Epoch 28/30\n",
      "50/50 [==============================] - 519s 10s/step - loss: 0.2239 - acc: 0.9140 - val_loss: 0.1898 - val_acc: 0.9200\n",
      "Epoch 29/30\n",
      "50/50 [==============================] - 513s 10s/step - loss: 0.2035 - acc: 0.9280 - val_loss: 0.2059 - val_acc: 0.9000\n",
      "Epoch 30/30\n",
      "50/50 [==============================] - 465s 9s/step - loss: 0.2148 - acc: 0.9020 - val_loss: 0.2189 - val_acc: 0.9280\n"
     ]
    }
   ],
   "source": [
    "history = model.fit(\n",
    "                    train_generator,\n",
    "                    steps_per_epoch=50,\n",
    "                    epochs=30,\n",
    "                    validation_data=validation_generator,\n",
    "                    validation_steps=25)"
   ]
  },
  {
   "cell_type": "code",
   "execution_count": 24,
   "id": "8c07d2f0",
   "metadata": {},
   "outputs": [
    {
     "data": {
      "image/png": "[encoded data removed]",
      "text/plain": [
       "<Figure size 432x288 with 1 Axes>"
      ]
     },
     "metadata": {
      "needs_background": "light"
     },
     "output_type": "display_data"
    },
    {
     "data": {
      "image/png": "[encoded data removed]",
      "text/plain": [
       "<Figure size 432x288 with 1 Axes>"
      ]
     },
     "metadata": {
      "needs_background": "light"
     },
     "output_type": "display_data"
    }
   ],
   "source": [
    "import matplotlib.pyplot as plt\n",
    "acc = history.history['acc']\n",
    "val_acc = history.history['val_acc']\n",
    "loss = history.history['loss']\n",
    "val_loss = history.history['val_loss']\n",
    "epochs = range(1, len(acc) + 1)\n",
    "plt.plot(epochs, acc, 'bo', label='Training acc')\n",
    "plt.plot(epochs, val_acc, 'b', label='Validation acc')\n",
    "plt.title('Training and validation accuracy')\n",
    "plt.legend()\n",
    "plt.figure()\n",
    "plt.plot(epochs, loss, 'bo', label='Training loss')\n",
    "plt.plot(epochs, val_loss, 'b', label='Validation loss')\n",
    "plt.title('Training and validation loss')\n",
    "plt.legend()\n",
    "plt.show()"
   ]
  },
  {
   "cell_type": "code",
   "execution_count": null,
   "id": "dbe5ad90",
   "metadata": {},
   "outputs": [],
   "source": []
  }
 ],
 "metadata": {
  "kernelspec": {
   "display_name": "Python 3",
   "language": "python",
   "name": "python3"
  },
  "language_info": {
   "codemirror_mode": {
    "name": "ipython",
    "version": 3
   },
   "file_extension": ".py",
   "mimetype": "text/x-python",
   "name": "python",
   "nbconvert_exporter": "python",
   "pygments_lexer": "ipython3",
   "version": "3.8.8"
  }
 },
 "nbformat": 4,
 "nbformat_minor": 5
}
